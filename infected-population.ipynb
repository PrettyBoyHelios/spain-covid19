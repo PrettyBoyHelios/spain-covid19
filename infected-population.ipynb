{
 "cells": [
  {
   "cell_type": "markdown",
   "metadata": {
    "collapsed": true,
    "pycharm": {
     "name": "#%% md\n"
    }
   },
   "source": [
    "# Percentaje of Infected Population in Spain"
   ]
  },
  {
   "cell_type": "markdown",
   "metadata": {},
   "source": [
    "First we import all the libraries to use for our data analysis."
   ]
  },
  {
   "cell_type": "code",
   "execution_count": 1,
   "metadata": {},
   "outputs": [],
   "source": [
    "import pandas as pd"
   ]
  },
  {
   "cell_type": "markdown",
   "metadata": {},
   "source": [
    "We filter data given a specific country. So that it is easier to handle."
   ]
  },
  {
   "cell_type": "code",
   "execution_count": 2,
   "metadata": {
    "pycharm": {
     "name": "#%%\n"
    }
   },
   "outputs": [
    {
     "name": "stdout",
     "output_type": "stream",
     "text": [
      "Please enter a country name\n",
      "Spain\n",
      "     Province/State Country/Region   Lat  Long        Date  Confirmed  \\\n",
      "2880            NaN          Spain  40.0  -4.0  2020-01-22          0   \n",
      "2881            NaN          Spain  40.0  -4.0  2020-01-23          0   \n",
      "2882            NaN          Spain  40.0  -4.0  2020-01-24          0   \n",
      "2883            NaN          Spain  40.0  -4.0  2020-01-25          0   \n",
      "2884            NaN          Spain  40.0  -4.0  2020-01-26          0   \n",
      "\n",
      "      Recovered  Deaths  \n",
      "2880          0       0  \n",
      "2881          0       0  \n",
      "2882          0       0  \n",
      "2883          0       0  \n",
      "2884          0       0  \n"
     ]
    }
   ],
   "source": [
    "data = pd.read_csv(\"data/covid-worldwide.csv\")\n",
    "# interestCountry = input(\"Please enter a country name\\n\")\n",
    "interestCountry = \"Spain\"\n",
    "filteredData = data[data[\"Country/Region\"] == interestCountry]\n",
    "print(filteredData.head())"
   ]
  },
  {
   "cell_type": "markdown",
   "metadata": {},
   "source": [
    "Now, we proceed to sort data so that it is easily handled to be plotted in a matplotlib chart."
   ]
  }
 ],
 "metadata": {
  "kernelspec": {
   "display_name": "Python 3",
   "language": "python",
   "name": "python3"
  },
  "language_info": {
   "codemirror_mode": {
    "name": "ipython",
    "version": 3
   },
   "file_extension": ".py",
   "mimetype": "text/x-python",
   "name": "python",
   "nbconvert_exporter": "python",
   "pygments_lexer": "ipython3",
   "version": "3.7.7"
  },
  "pycharm": {
   "stem_cell": {
    "cell_type": "raw",
    "metadata": {
     "collapsed": false
    },
    "source": []
   }
  }
 },
 "nbformat": 4,
 "nbformat_minor": 1
}
